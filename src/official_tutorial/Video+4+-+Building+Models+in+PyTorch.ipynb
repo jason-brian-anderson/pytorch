{
 "cells": [
  {
   "cell_type": "markdown",
   "metadata": {},
   "source": [
    "# Building Models in PyTorch\n",
    "\n",
    "\n",
    "## `torch.nn.Module` and `torch.nn.Parameter`\n",
    "\n",
    "In this video, we'll be discussing some of the tools PyTorch makes available for building deep learning networks.\n",
    "\n",
    "Except for `Parameter`, the classes we discuss in this video are all subclasses of `torch.nn.Module`. This is the PyTorch base class meant to encapsulate behaviors specific to PyTorch Models and their components.\n",
    "\n",
    "One important behavior of `torch.nn.Module` is registering parameters. If a particular `Module` subclass has learning weights, these weights are expressed as instances of `torch.nn.Parameter`. The `Parameter` class is a subclass of `torch.Tensor`, with the special behavior that when they are assigned as attributes of a `Module`, they are added to the list of that modules parameters. These parameters may be accessed through the `parameters()` method on the `Module` class.\n",
    "\n",
    "As a simple example, here's a very simple model with two linear layers and an activation function. We'll create an instance of it and ask it to report on its parameters:"
   ]
  },
  {
   "cell_type": "code",
   "execution_count": 2,
   "metadata": {},
   "outputs": [],
   "source": [
    "#https://github.com/SvenBecker/vscode-pytorch/blob/master/COLLECTIONS.md#pytorch-basics\n",
    "\n"
   ]
  },
  {
   "cell_type": "code",
   "execution_count": 3,
   "metadata": {},
   "outputs": [],
   "source": [
    "import torch\n",
    "import torch.nn as nn\n",
    "import torch.nn.functional as F\n",
    "import torch.optim as optim"
   ]
  },
  {
   "cell_type": "code",
   "execution_count": null,
   "metadata": {},
   "outputs": [],
   "source": [
    "#conv = nn.Conv1d(in_channel, out_channel, groups=1, bias=True, kernel_size=2, padding=0, stride=1)"
   ]
  },
  {
   "cell_type": "code",
   "execution_count": 7,
   "metadata": {},
   "outputs": [
    {
     "name": "stdout",
     "output_type": "stream",
     "text": [
      "The model:\n",
      "TinyModel(\n",
      "  (linear1): Linear(in_features=100, out_features=200, bias=True)\n",
      "  (activation): ReLU()\n",
      "  (linear2): Linear(in_features=200, out_features=10, bias=True)\n",
      "  (softmax): Softmax(dim=None)\n",
      ")\n",
      "==============================\n",
      "\n",
      "\n",
      "Just one layer:\n",
      "Linear(in_features=200, out_features=10, bias=True)\n",
      "==============================\n",
      "\n",
      "\n",
      "Model params:\n",
      "shape: torch.Size([200, 100])\n",
      "Parameter containing:\n",
      "tensor([[-0.0901,  0.0963,  0.0145,  ...,  0.0879, -0.0580,  0.0014],\n",
      "        [ 0.0246, -0.0883, -0.0906,  ...,  0.0708,  0.0341,  0.0345],\n",
      "        [ 0.0324, -0.0227,  0.0066,  ..., -0.0031,  0.0285, -0.0001],\n",
      "        ...,\n",
      "        [ 0.0326, -0.0998,  0.0826,  ..., -0.0195,  0.0877,  0.0666],\n",
      "        [ 0.0304, -0.0515, -0.0047,  ..., -0.0440, -0.0327,  0.0432],\n",
      "        [-0.0021,  0.0592, -0.0508,  ..., -0.0913,  0.0559, -0.0339]],\n",
      "       requires_grad=True)\n",
      "shape: torch.Size([200])\n",
      "Parameter containing:\n",
      "tensor([-6.4621e-04,  2.8574e-02,  8.2444e-02, -8.6711e-02, -7.5522e-02,\n",
      "        -2.0263e-02,  8.1408e-02, -6.9455e-02,  5.3149e-03,  9.9282e-02,\n",
      "        -8.5194e-02,  4.1841e-03,  1.7896e-02, -1.1528e-02, -5.6985e-02,\n",
      "         8.6066e-03,  5.8347e-02,  2.9882e-02, -7.5955e-02,  8.6318e-03,\n",
      "         3.2207e-02, -7.9275e-02, -8.8727e-02,  3.9130e-02, -4.6899e-02,\n",
      "        -8.4006e-02, -8.2786e-02, -7.2879e-02,  7.2746e-02, -5.5025e-02,\n",
      "         9.1683e-02, -7.4538e-02,  5.5467e-02, -9.3524e-02, -3.4857e-02,\n",
      "         1.8374e-02, -7.3431e-02, -7.0119e-02,  7.5064e-02, -8.8909e-02,\n",
      "        -9.2653e-03, -5.7071e-02, -7.2537e-02,  5.9704e-02,  7.5970e-02,\n",
      "        -2.7445e-02, -1.6290e-02, -2.6901e-02,  4.4774e-02, -6.9334e-02,\n",
      "        -4.7158e-02,  8.1892e-02, -9.8352e-02,  3.6467e-02, -1.3791e-02,\n",
      "        -7.2224e-02,  2.7597e-02, -7.8109e-02,  3.8158e-02,  3.1998e-02,\n",
      "         7.7816e-02, -6.9081e-02,  3.1159e-02,  8.5154e-02,  3.2132e-02,\n",
      "         3.6428e-02, -7.5636e-02,  8.3946e-02,  4.1103e-02, -6.8317e-02,\n",
      "        -6.0021e-02, -4.5301e-03,  5.5927e-03, -2.7180e-02, -3.0194e-02,\n",
      "         2.8360e-02, -1.2125e-02,  5.6878e-02, -1.2716e-02,  9.2509e-02,\n",
      "        -9.8209e-02, -9.0225e-02, -3.9217e-02,  9.1732e-02, -9.9007e-02,\n",
      "         2.8898e-02,  4.3750e-02,  3.6641e-03,  1.8881e-02,  2.0041e-03,\n",
      "         5.9730e-02, -2.0739e-02,  1.1302e-02, -1.6961e-02, -3.9166e-02,\n",
      "        -3.8817e-03,  8.2135e-05, -7.4320e-02,  4.1887e-02, -2.7298e-02,\n",
      "        -2.9685e-02,  8.1284e-02,  7.8276e-02, -8.0017e-02, -5.6155e-02,\n",
      "        -1.8973e-03,  7.0277e-02,  5.6213e-03, -5.9156e-02, -6.5331e-02,\n",
      "         3.0818e-02, -1.5772e-03, -7.0594e-02, -4.6454e-02,  1.4054e-02,\n",
      "        -6.8882e-02, -4.9134e-02,  2.7781e-02, -9.7327e-02, -5.1916e-02,\n",
      "        -3.9503e-03,  8.0364e-02,  8.9297e-03,  2.0367e-02,  8.7686e-02,\n",
      "         3.3444e-02,  9.4893e-02,  8.6141e-02, -7.2213e-03,  4.9464e-02,\n",
      "         8.5182e-04, -5.8722e-02, -1.7494e-02,  8.1684e-03,  5.7195e-02,\n",
      "         3.4254e-02,  3.5639e-02, -7.4180e-02,  1.0595e-02,  1.8388e-03,\n",
      "         3.3948e-02,  2.1452e-02,  6.1530e-02,  8.1245e-02,  7.7611e-02,\n",
      "        -6.3101e-02, -9.3173e-02,  7.3018e-02,  7.5753e-02,  8.3336e-02,\n",
      "        -3.2835e-02,  5.4933e-02, -8.7277e-02,  6.4108e-02, -6.7290e-02,\n",
      "        -2.0935e-02,  5.2036e-02,  5.3464e-02, -8.4771e-02, -2.0770e-02,\n",
      "        -4.5404e-02,  5.7463e-02, -6.5476e-02,  4.5624e-02, -3.7936e-02,\n",
      "         3.8681e-02,  5.5390e-02,  9.5604e-02, -4.3519e-03,  9.4438e-02,\n",
      "        -5.3956e-02, -3.1948e-03, -5.4248e-02, -8.0058e-02,  3.5089e-02,\n",
      "         2.6313e-02,  4.7856e-03, -2.2360e-02, -7.5061e-02,  8.3028e-02,\n",
      "         1.4206e-02,  4.9945e-02, -9.1073e-02,  2.3893e-02,  2.8904e-02,\n",
      "         3.7412e-03, -5.3432e-02,  2.4058e-02,  2.4978e-02, -2.3733e-02,\n",
      "         2.3214e-02,  9.0627e-02, -9.1414e-02,  2.1454e-02, -3.6475e-02,\n",
      "        -5.6352e-02, -5.4644e-02,  3.4711e-03, -4.7043e-02, -8.5035e-02],\n",
      "       requires_grad=True)\n",
      "shape: torch.Size([10, 200])\n",
      "Parameter containing:\n",
      "tensor([[-0.0074,  0.0283,  0.0223,  ...,  0.0242, -0.0621,  0.0022],\n",
      "        [-0.0082,  0.0107, -0.0702,  ..., -0.0642, -0.0678,  0.0117],\n",
      "        [ 0.0179,  0.0285, -0.0630,  ...,  0.0156, -0.0627,  0.0392],\n",
      "        ...,\n",
      "        [ 0.0175,  0.0382, -0.0271,  ...,  0.0614, -0.0109, -0.0462],\n",
      "        [-0.0350, -0.0375, -0.0516,  ...,  0.0529,  0.0267, -0.0254],\n",
      "        [-0.0014, -0.0345,  0.0249,  ...,  0.0664, -0.0553,  0.0269]],\n",
      "       requires_grad=True)\n",
      "shape: torch.Size([10])\n",
      "Parameter containing:\n",
      "tensor([-0.0629,  0.0543, -0.0555,  0.0665,  0.0595,  0.0328,  0.0335,  0.0640,\n",
      "        -0.0178,  0.0676], requires_grad=True)\n",
      "==============================\n",
      "\n",
      "\n",
      "Layer params:\n",
      "++++++++++ param.shape: torch.Size([10, 200]) ++++++++++\n",
      "Parameter containing:\n",
      "tensor([[-0.0074,  0.0283,  0.0223,  ...,  0.0242, -0.0621,  0.0022],\n",
      "        [-0.0082,  0.0107, -0.0702,  ..., -0.0642, -0.0678,  0.0117],\n",
      "        [ 0.0179,  0.0285, -0.0630,  ...,  0.0156, -0.0627,  0.0392],\n",
      "        ...,\n",
      "        [ 0.0175,  0.0382, -0.0271,  ...,  0.0614, -0.0109, -0.0462],\n",
      "        [-0.0350, -0.0375, -0.0516,  ...,  0.0529,  0.0267, -0.0254],\n",
      "        [-0.0014, -0.0345,  0.0249,  ...,  0.0664, -0.0553,  0.0269]],\n",
      "       requires_grad=True)\n",
      "++++++++++ param.shape: torch.Size([10]) ++++++++++\n",
      "Parameter containing:\n",
      "tensor([-0.0629,  0.0543, -0.0555,  0.0665,  0.0595,  0.0328,  0.0335,  0.0640,\n",
      "        -0.0178,  0.0676], requires_grad=True)\n",
      "==============================\n"
     ]
    }
   ],
   "source": [
    "import torch\n",
    "\n",
    "class TinyModel(torch.nn.Module):\n",
    "    \n",
    "    def __init__(self):\n",
    "        super(TinyModel, self).__init__()\n",
    "        \n",
    "        self.linear1 = torch.nn.Linear(100, 200)\n",
    "        self.activation = torch.nn.ReLU()\n",
    "        self.linear2 = torch.nn.Linear(200, 10)\n",
    "        self.softmax = torch.nn.Softmax()\n",
    "    \n",
    "    def forward(self, x):\n",
    "        x = self.linear1(x)\n",
    "        x = self.activation(x)\n",
    "        x = self.linear2(x)\n",
    "        x = self.softmax(x)\n",
    "        return x\n",
    "\n",
    "tinymodel = TinyModel()\n",
    "\n",
    "print('The model:')\n",
    "print(tinymodel)\n",
    "print('='*30)\n",
    "\n",
    "print('\\n\\nJust one layer:')\n",
    "print(tinymodel.linear2)\n",
    "print('='*30)\n",
    "\n",
    "print('\\n\\nModel params:')\n",
    "for param in tinymodel.parameters():\n",
    "    print(f\"shape: {param.shape}\")\n",
    "    print(param)\n",
    "print('='*30)\n",
    "\n",
    "print('\\n\\nLayer params:')\n",
    "for param in tinymodel.linear2.parameters():\n",
    "    print('+'*10, f\"param.shape: {param.shape}\", '+'*10)\n",
    "    print(param)\n",
    "print('='*30)"
   ]
  },
  {
   "cell_type": "markdown",
   "metadata": {},
   "source": [
    "This shows the fundamental structure of a PyTorch model: there is an `__init__()` method that defines the layers and other components of a model, and a `forward()` method where the computation gets done. Note that we can print the model, or any of its submodules, to learn about its structure.\n",
    "\n",
    "## Common Layer Types\n",
    "\n",
    "### Linear Layers\n",
    "\n",
    "The most basic type of neural network layer is a *linear* or *fully connected* layer. This is a layer where every input influences every output of the layer to a degree specified by the layer's weights. If a model has *m* inputs and *n* outputs, the weights will be an *m * n* matrix. For example:"
   ]
  },
  {
   "cell_type": "code",
   "execution_count": 10,
   "metadata": {},
   "outputs": [
    {
     "name": "stdout",
     "output_type": "stream",
     "text": [
      "Input:\n",
      "torch.Size([1, 3])\n",
      "tensor([[0.5482, 0.3984, 0.4257]])\n",
      "\n",
      "\n",
      "Weight and Bias parameters:\n",
      "torch.Size([2, 3])\n",
      "Parameter containing:\n",
      "tensor([[ 0.4574, -0.0362,  0.5753],\n",
      "        [ 0.2415, -0.0447,  0.3776]], requires_grad=True)\n",
      "torch.Size([2])\n",
      "Parameter containing:\n",
      "tensor([-0.3213,  0.3441], requires_grad=True)\n",
      "\n",
      "\n",
      "Output:\n",
      "torch.Size([1, 2])\n",
      "tensor([[0.1599, 0.6194]], grad_fn=<AddmmBackward0>)\n"
     ]
    }
   ],
   "source": [
    "lin = torch.nn.Linear(3, 2)\n",
    "x = torch.rand(1, 3)\n",
    "print('Input:')\n",
    "print(x.shape)\n",
    "print(x)\n",
    "\n",
    "print('\\n\\nWeight and Bias parameters:')\n",
    "for param in lin.parameters():\n",
    "    print(param.shape)\n",
    "    print(param)\n",
    "\n",
    "y = lin(x)\n",
    "print('\\n\\nOutput:')\n",
    "print(y.shape)\n",
    "print(y)"
   ]
  },
  {
   "cell_type": "code",
   "execution_count": 11,
   "metadata": {},
   "outputs": [
    {
     "data": {
      "text/plain": [
       "Parameter containing:\n",
       "tensor([[ 0.4574, -0.0362,  0.5753],\n",
       "        [ 0.2415, -0.0447,  0.3776]], requires_grad=True)"
      ]
     },
     "execution_count": 11,
     "metadata": {},
     "output_type": "execute_result"
    }
   ],
   "source": [
    "lin.weight"
   ]
  },
  {
   "cell_type": "markdown",
   "metadata": {},
   "source": [
    "If you do the matrix multiplication of `x` by the linear layer's weights, and add the biases, you'll find that you get the output vector `y`.\n",
    "\n",
    "One other important feature to note: When we checked the weights of our layer with `lin.weight`, it reported itself as a `Parameter` (which is a subclass of `Tensor`), and let us know that it's tracking gradients with autograd. This is a default behavior for `Parameter` that differs from `Tensor`.\n",
    "\n",
    "Linear layers are used widely in deep learning models. One of the most common places you'll see them is in classifier models, which will usually have one or more linear layers at the end, where the last layer will have *n* outputs, where *n* is the number of classes the classifier addresses.\n",
    "\n",
    "### Convolutional Layers\n",
    "\n",
    "*Convolutional* layers are built to handle data with a high degree of spatial correlation. They are very commonly used in computer vision, where they detect close groupings of features which the compose into higher-level features. They pop up in other contexts too - for example, in NLP applications, where the a word's immediate context (that is, the other words nearby in the sequence) can affect the meaning of a sentence.\n",
    "\n",
    "We saw convolutional layers in action in LeNet5 in an earlier video:"
   ]
  },
  {
   "cell_type": "code",
   "execution_count": 3,
   "metadata": {},
   "outputs": [],
   "source": [
    "import torch.functional as F\n",
    "\n",
    "\n",
    "class LeNet(torch.nn.Module):\n",
    "\n",
    "    def __init__(self):\n",
    "        super(LeNet, self).__init__()\n",
    "        # 1 input image channel (black & white), 6 output channels, 3x3 square convolution\n",
    "        # kernel\n",
    "        self.conv1 = torch.nn.Conv2d(1, 6, 5)\n",
    "        self.conv2 = torch.nn.Conv2d(6, 16, 3)\n",
    "        # an affine operation: y = Wx + b\n",
    "        self.fc1 = torch.nn.Linear(16 * 6 * 6, 120)  # 6*6 from image dimension\n",
    "        self.fc2 = torch.nn.Linear(120, 84)\n",
    "        self.fc3 = torch.nn.Linear(84, 10)\n",
    "\n",
    "    def forward(self, x):\n",
    "        # Max pooling over a (2, 2) window\n",
    "        x = F.max_pool2d(F.relu(self.conv1(x)), (2, 2))\n",
    "        # If the size is a square you can only specify a single number\n",
    "        x = F.max_pool2d(F.relu(self.conv2(x)), 2)\n",
    "        x = x.view(-1, self.num_flat_features(x))\n",
    "        x = F.relu(self.fc1(x))\n",
    "        x = F.relu(self.fc2(x))\n",
    "        x = self.fc3(x)\n",
    "        return x\n",
    "\n",
    "    def num_flat_features(self, x):\n",
    "        size = x.size()[1:]  # all dimensions except the batch dimension\n",
    "        num_features = 1\n",
    "        for s in size:\n",
    "            num_features *= s\n",
    "        return num_features"
   ]
  },
  {
   "cell_type": "markdown",
   "metadata": {},
   "source": [
    "Let's break down what's happening in the convolutional layers of this model. Starting with `conv1`:\n",
    "\n",
    "* LeNet5 is meant to take in a 1x32x32 black & white image. **The first argument to a convolutional layer's constructor is the number of input channels.** Here, it is 1. If we were building this model to look at 3-color channels, it would be 3.\n",
    "* A convolutional layer is like a window that scans over the image, looking for a pattern it recognizes. These patterns are called *features,* and one of the parameters of a convolutional layer is the number of features we would like it to learn. **This is the second argument to the constructor is the number of output features.** Here, we're asking our layer to learn 6 features.\n",
    "* Just above, I likened the convolutional layer to a window - but how big is the window? **The third argument is the window or *kernel* size.** Here, the \"5\" means we've chosen a 5x5 kernel. (If you want a kernel with height different from width, you can specify a tuple for this argument - e.g., `(3, 5)` to get a 3x5 convolution kernel.)\n",
    "\n",
    "The output of a convolutional layer is an *activation map* - a spatial representation of the presence of features in the input tensor. `conv1` will give us an output tensor of 6x28x28; 6 is the number of features, and 28 is the height and width of our map. (The 28 comes from the fact that when scanning a 5-pixel window over a 32-pixel row, there are only 28 valid positions.)\n",
    "\n",
    "We then pass the output of the convolution through a ReLU activation function (more on activation functions later), then through a max pooling layer. The max pooling layer takes features near each other in the activation map and groups them together. It does this by reducing the tensor, merging every 2x2 group of cells in the output into a single cell, and assigning that cell the maximum value of the 4 cells that went into it. This gives us a lower-resolution version of the activation map, with dimensions 6x14x14.\n",
    "\n",
    "Our next convolutional layer, `conv2`, expects 6 input channels (corresponding to the 6 features sought by the first layer), has 16 output channels, and a 3x3 kernel. It puts out a 16x12x12 activation map, which is again reduced by a max pooling layer to 16x6x6. Prior to passing this output to the linear layers, it is reshaped to a 16 * 6 * 6 = 576-element vector for consumption by the next layer.\n",
    "\n",
    "There are convolutional layers for addressing 1D, 2D, and 3D tensors. There are also many more optional arguments for a conv layer constructor, including stride length(e.g., only scanning every second or every third position) in the input, padding (so you can scan out to the edges of the input), and more. See the [documentation](https://pytorch.org/docs/stable/nn.html#convolution-layers) for more information.\n",
    "\n",
    "### Recurrent Layers\n",
    "\n",
    "*Recurrent neural networks* (or *RNNs)* are used for sequential data - anything from time-series measurements from a scientific instrument to natural language sentences to DNA nucleotides. An RNN does this by maintaining a *hidden state* that acts as a sort of memory for what it has seen in the sequence so far.\n",
    "\n",
    "The internal structure of an RNN layer - or its variants, the LSTM (long short-term memory) and GRU (gated recurrent unit) - is moderately complex and beyond the scope of this video, but we'll show you what one looks like in action with an LSTM-based part-of-speech tagger (a type of classifier that tells you if a word is a noun, verb, etc.):"
   ]
  },
  {
   "cell_type": "code",
   "execution_count": 4,
   "metadata": {},
   "outputs": [],
   "source": [
    "class LSTMTagger(torch.nn.Module):\n",
    "\n",
    "    def __init__(self, embedding_dim, hidden_dim, vocab_size, tagset_size):\n",
    "        super(LSTMTagger, self).__init__()\n",
    "        self.hidden_dim = hidden_dim\n",
    "\n",
    "        self.word_embeddings = torch.nn.Embedding(vocab_size, embedding_dim)\n",
    "\n",
    "        # The LSTM takes word embeddings as inputs, and outputs hidden states\n",
    "        # with dimensionality hidden_dim.\n",
    "        self.lstm = torch.nn.LSTM(embedding_dim, hidden_dim)\n",
    "        torch.nn.LSTM\n",
    "\n",
    "        # The linear layer that maps from hidden state space to tag space\n",
    "        self.hidden2tag = torch.nn.Linear(hidden_dim, tagset_size)\n",
    "\n",
    "    def forward(self, sentence):\n",
    "        embeds = self.word_embeddings(sentence)\n",
    "        lstm_out, _ = self.lstm(embeds.view(len(sentence), 1, -1))\n",
    "        tag_space = self.hidden2tag(lstm_out.view(len(sentence), -1))\n",
    "        tag_scores = F.log_softmax(tag_space, dim=1)\n",
    "        return tag_scores"
   ]
  },
  {
   "cell_type": "markdown",
   "metadata": {},
   "source": [
    "The constructor has four arguments:\n",
    "\n",
    "* `vocab_size` is the number of words in the input vocabulary. Each word is a one-hot vector (or unit vector) in a `vocab_size`-dimensional space.\n",
    "* `tagset_size` is the number of tags in the output set.\n",
    "* `embedding_dim` is the size of the *embedding* space for the vocabulary. An embedding maps a vocabulary onto a low-dimensional space, where words with similar meanings are close together in the space.\n",
    "* `hidden_dim` is the size of the LSTM's memory.\n",
    "\n",
    "The input will be a sentence with the words represented as indices of of one-hot vectors. The embedding layer will then map these down to an `embedding_dim`-dimensional space. The LSTM takes this sequence of embeddings and iterates over it, fielding an output vector of length `hidden_dim`. The final linear layer acts as a classifier; applying `log_softmax()` to the output of the final layer converts the output into a normalized set of estimated probabilities that a given word maps to a given tag.\n",
    "\n",
    "If you'd like to see this network in action, check out the [Sequence Models and LSTM Networks](https://pytorch.org/tutorials/beginner/nlp/sequence_models_tutorial.html) tutorial on pytorch.org.\n",
    "\n",
    "### Transformers\n",
    "\n",
    "*Transformers* are multi-purpose networks that have taken over the state of the art in NLP with models like BERT. A discussion of transformer architecture is beyond the scope of this video, but PyTorch has a `Transformer` class that allows you to define the overall parameters of a transformer model - the number of attention heads, the number of encoder & decoder layers, dropout and activation functions, etc. (You can even build the BERT model from this single class, with the right parameters!) The `torch.nn.Transformer` class also has classes to encapsulate the individual components (`TransformerEncoder`, `TransformerDecoder`) and subcomponents (`TransformerEncoderLayer`, `TransformerDecoderLayer`). For details, check out the [documentation](https://pytorch.org/docs/stable/nn.html#transformer) on transformer classes, and the relevant [tutorial](https://pytorch.org/tutorials/beginner/transformer_tutorial.html) on pytorch.org.\n",
    "\n",
    "## Other Layers and Functions\n",
    "\n",
    "### Data Manipulation Layers\n",
    "\n",
    "There are other layer types that perform important functions in models, but don't participate in the learning process themselves.\n",
    "\n",
    "**Max pooling** (and its twin, min pooling) reduce a tensor by combining cells, and assigning the maximum value of the input cells to the output cell. (We saw this ) For example:"
   ]
  },
  {
   "cell_type": "code",
   "execution_count": 5,
   "metadata": {},
   "outputs": [
    {
     "name": "stdout",
     "output_type": "stream",
     "text": [
      "tensor([[[0.4063, 0.3789, 0.7058, 0.4173, 0.6725, 0.4130],\n",
      "         [0.3846, 0.2497, 0.2059, 0.6765, 0.7699, 0.0406],\n",
      "         [0.5617, 0.0464, 0.5702, 0.6297, 0.7444, 0.5759],\n",
      "         [0.9975, 0.6411, 0.2864, 0.9088, 0.6972, 0.3462],\n",
      "         [0.4867, 0.9522, 0.9984, 0.7856, 0.0588, 0.1294],\n",
      "         [0.4966, 0.3598, 0.0429, 0.7505, 0.0611, 0.8948]]])\n",
      "tensor([[[0.7058, 0.7699],\n",
      "         [0.9984, 0.9088]]])\n"
     ]
    }
   ],
   "source": [
    "my_tensor = torch.rand(1, 6, 6)\n",
    "print(my_tensor)\n",
    "\n",
    "maxpool_layer = torch.nn.MaxPool2d(3)\n",
    "print(maxpool_layer(my_tensor))"
   ]
  },
  {
   "cell_type": "markdown",
   "metadata": {},
   "source": [
    "If you look closely at the values above, you'll see that each of the values in the maxpooled output is the maximum value of each quadrant of the 6x6 input.\n",
    "\n",
    "**Normalization layers** re-center and normalize the output of one layer before feeding it to another. Centering the and scaling the intermediate tensors has a number of beneficial effects, such as letting you use higher learning rates without exploding/vanishing gradients."
   ]
  },
  {
   "cell_type": "code",
   "execution_count": 6,
   "metadata": {},
   "outputs": [
    {
     "name": "stdout",
     "output_type": "stream",
     "text": [
      "tensor([[[10.4184, 14.3378,  8.5010,  7.4130],\n",
      "         [ 5.8683,  6.9795, 20.9568, 23.2021],\n",
      "         [16.7332, 23.3086,  7.5555, 14.6581],\n",
      "         [ 8.8740,  7.3098,  8.4603,  5.3963]]])\n",
      "tensor(11.8733)\n",
      "tensor([[[ 0.0951,  1.5813, -0.6319, -1.0445],\n",
      "         [-1.0642, -0.9231,  0.8512,  1.1362],\n",
      "         [ 0.2081,  1.3783, -1.4252, -0.1612],\n",
      "         [ 1.0116, -0.1486,  0.7047, -1.5678]]],\n",
      "       grad_fn=<NativeBatchNormBackward0>)\n",
      "tensor(-5.9605e-08, grad_fn=<MeanBackward0>)\n"
     ]
    }
   ],
   "source": [
    "my_tensor = torch.rand(1, 4, 4) * 20 + 5\n",
    "print(my_tensor)\n",
    "\n",
    "print(my_tensor.mean())\n",
    "\n",
    "norm_layer = torch.nn.BatchNorm1d(4)\n",
    "normed_tensor = norm_layer(my_tensor)\n",
    "print(normed_tensor)\n",
    "\n",
    "print(normed_tensor.mean())\n"
   ]
  },
  {
   "cell_type": "markdown",
   "metadata": {},
   "source": [
    "Running the cell above, we've added a large scaling factor and offset to an input tensor; you should see the input tensor's `mean()` somewhere in the neighborhood of 15. After running it through the normalization layer, you can see that the values are smaller, and grouped around zero - in fact, the mean should be very small (> 1e-8).\n",
    "\n",
    "This is beneficial because many activation functions (discussed below) have their strongest gradients near 0, but sometimes suffer from vanishing or exploding gradients for inputs that drive them far away from zero. Keeping the data centered around the area of steepest gradient will tend to mean faster, better learning and higher feasible learning rates.\n",
    "\n",
    "**Dropout layers** are a tool for encouraging *sparse representations* in your model - that is, pushing it to do inference with less data.\n",
    "\n",
    "Dropout layers work by randomly setting parts of the input tensor *during training* - dropout layers are always turned off for inference. This forces the model to learn against this masked or reduced dataset. For example:"
   ]
  },
  {
   "cell_type": "code",
   "execution_count": 7,
   "metadata": {},
   "outputs": [
    {
     "name": "stdout",
     "output_type": "stream",
     "text": [
      "tensor([[[0.0000, 1.3399, 0.9954, 0.0000],\n",
      "         [0.7482, 0.0000, 0.5955, 0.2199],\n",
      "         [0.2549, 0.0000, 0.9924, 0.0000],\n",
      "         [0.3308, 0.7523, 1.3248, 0.1619]]])\n",
      "tensor([[[0.7290, 0.0000, 0.9954, 0.3309],\n",
      "         [0.0000, 0.0000, 0.5955, 0.2199],\n",
      "         [0.2549, 0.0000, 0.9924, 0.7795],\n",
      "         [0.3308, 0.7523, 1.3248, 0.1619]]])\n"
     ]
    }
   ],
   "source": [
    "my_tensor = torch.rand(1, 4, 4)\n",
    "\n",
    "dropout = torch.nn.Dropout(p=0.4)\n",
    "print(dropout(my_tensor))\n",
    "print(dropout(my_tensor))"
   ]
  },
  {
   "cell_type": "markdown",
   "metadata": {},
   "source": [
    "Above, you can see the effect of dropout on a sample tensor. You can use the optional `p` argument to set the probability of an individual weight dropping out; if you don't it defaults to 0.5.\n",
    "\n",
    "### Activation Functions\n",
    "\n",
    "Activation functions make deep learning possible. A neural network is really a program - with many parameters - that *simulates a mathematical function*. If all we did was multiple tensors by layer weights repeatedly, we could only simulate *linear functions;* further, there would be no point to having many layers, as the whole network would reduce could be reduced to a single matrix multiplication. Inserting *non-linear* activation functions between layers is what allows a deep learning model to simulate any function, rather than just linear ones.\n",
    "\n",
    "`torch.nn.Module` has objects encapsulating all of the major activation functions including ReLU and its many variants, Tanh, Hardtanh, sigmoid, and more. It also includes other functions, such as Softmax, that are most useful at the output stage of a model.\n",
    "\n",
    "### Loss Functions\n",
    "\n",
    "Loss functions tell us how far a model's prediction is from the correct answer. PyTorch contains a variety of loss functions, including common MSE (mean squared error = L2 norm), Cross Entropy Loss and Negative Likelihood Loss (useful for classifiers), and others."
   ]
  },
  {
   "cell_type": "markdown",
   "metadata": {},
   "source": [
    "## Advanced: Replacing Layers"
   ]
  },
  {
   "cell_type": "code",
   "execution_count": null,
   "metadata": {},
   "outputs": [],
   "source": []
  }
 ],
 "metadata": {
  "kernelspec": {
   "display_name": "base",
   "language": "python",
   "name": "python3"
  },
  "language_info": {
   "codemirror_mode": {
    "name": "ipython",
    "version": 3
   },
   "file_extension": ".py",
   "mimetype": "text/x-python",
   "name": "python",
   "nbconvert_exporter": "python",
   "pygments_lexer": "ipython3",
   "version": "3.10.8 (main, Nov  4 2022, 13:48:29) [GCC 11.2.0]"
  },
  "vscode": {
   "interpreter": {
    "hash": "d4d1e4263499bec80672ea0156c357c1ee493ec2b1c70f0acce89fc37c4a6abe"
   }
  }
 },
 "nbformat": 4,
 "nbformat_minor": 4
}
